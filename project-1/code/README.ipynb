{
 "cells": [
  {
   "cell_type": "markdown",
   "metadata": {},
   "source": [
    "# ![](https://ga-dash.s3.amazonaws.com/production/assets/logo-9f88ae6c9c3871690e33280fcf557f33.png)Project 1: Local Traffic, Statistical Summaries and Inference"
   ]
  },
  {
   "cell_type": "markdown",
   "metadata": {},
   "source": [
    "### Overview\n",
    "\n",
    "my first module in DSI covers:\n",
    "- basic statistics (distributions, confidence intervals, hypothesis testing)\n",
    "- many Python programming concepts\n",
    "- programmatically interacting with files and directories\n",
    "- visualizations\n",
    "- EDA\n",
    "- working with Jupyter notebooks for development and reporting"
   ]
  },
  {
   "cell_type": "markdown",
   "metadata": {},
   "source": [
    "## Problem Statment\n",
    "For my first project, i'm going to take a look at the number of traffic accidents and driving licenses issued in Saudi Arabia. I'll seek to identify trends in the data and combine our data analysis with outside research to identify likely factors influencing the outcomes of traffic accidents in the various regions in Saudi Arabia.\n",
    "in this project , i will try to verify of increase the driving licenses and traffic accidents , and what's the region and year have the maximum numbers of driving licenses issued and the region and year have the minmum numbers of driving licenses issued and the same thing withe traffic accident which region and year have the maximum numer of accident and and i try to compare between the two datasets and explain what i notes and what we achieve frome each one and i also apply what i study in my cours ."
   ]
  },
  {
   "cell_type": "markdown",
   "metadata": {},
   "source": [
    "## Executive Summary\n",
    "first i have description for the datasete then i have to load and display it and detect which data need to clean then clean the corrupted data and additional features then rename the features to lower case and replace the spaces with underscore to make it easy to access and deal with it when i coding . also i create a data dictionary which contain all features and description for them then visualization the data and descripe it staticaly "
   ]
  },
  {
   "cell_type": "markdown",
   "metadata": {},
   "source": [
    "### Datasets\n",
    "\n",
    "#### Datasets Description\n",
    "\n",
    "[Driving Licenses](https://datasource.kapsarc.org/explore/dataset/saudi-arabia-driving-licenses-issued-in-the-kingdom-2004-2008/information/?disjunctive.administritive_area&sort=time_period&location=5,24.37495,45.08024&basemap=jawg.streets)\n",
    "This dataset contains Saudi Arabia Driving Licenses Issued By Administrative Area for 1993 - 2016. Data from General Authority for Statistics . Follow datasource.kapsarc.org for timely data to advance energy economics research.\n",
    "\n",
    "[Traffic Accidents and Casualties](https://datasource.kapsarc.org/explore/dataset/saudi-arabia-traffic-accidents-and-casualties-injured-dead-2008/export/?disjunctive.region&disjunctive.indicator&sort=time_period)\n",
    "This dataset contains Saudi Arabia Traffic Accidents and Casualties by Region for 2016. Data from General Authority for Statistics. Follow datasource.kapsarc.org for timely data to advance energy economics research.\n"
   ]
  },
  {
   "cell_type": "markdown",
   "metadata": {},
   "source": [
    "#### Data Dctionary \n",
    "|Feature|Type|Dataset|Description|\n",
    "|---|---|---|---|\n",
    "|**year**\t                        | integer  |Driving_Licenses| the year of  the licenses issuance | \n",
    "|**region**                   \t| object   |Driving_Licenses| the region where the licenses issuance| \n",
    "|**driving_licenses**            \t| int      |Driving_Licenses| Number of Driving Licenses| \n",
    "|**y**                          \t| float    |Driving_Licenses| the longitude of the region | \n",
    "|**x**                         \t| float    |Driving_Licenses| latitude of the region| \n",
    "|**year**                           | int      |Traffic_Accidents| the year of traffic accidents and casualties |\n",
    "|**region**\t                        | object   |Traffic_Accidents| the region wher traffic accidents and casualties |\n",
    "|**indicator**                      | object   |Traffic_Accidents| contain the description of  value featur numbers there is two description in it 'No. of Casualties - Injured' , 'No. of Casualties - Dead' and No. of Accident |\n",
    "|**value**                          | int      |Traffic_Accidents| contain the numberd which was descripted in indictor |\n",
    "|**y**                          \t| float    |Traffic_Accidents| the longitude of the region | \n",
    "|**x**                         \t| float    |Traffic_Accidents| latitude of the region| \n"
   ]
  },
  {
   "cell_type": "markdown",
   "metadata": {},
   "source": [
    "## Outside Research\n",
    "in my blog i write o\n",
    "[kkkkkkkkk](https://modhi-almannaa.blogspot.com/2020/12/accidents-definition-of-traffic.html)"
   ]
  },
  {
   "cell_type": "markdown",
   "metadata": {},
   "source": [
    "\n",
    "\n",
    "## Conclusions and Recommendations\n",
    " by analyzing the data i notes that evrey year the number of Driving Licenses issued are increase especially in the big cityes which make the number of car accidents is increasing also . I suggest placing more surveillance cameras and increasing the value of fines to deter violators of the regulations and impose more penalties on them and increase traffic signals at intersections to regulate traffic and distribute the start and end times of the employees to reduce traffic congestion"
   ]
  },
  {
   "cell_type": "code",
   "execution_count": null,
   "metadata": {},
   "outputs": [],
   "source": []
  }
 ],
 "metadata": {
  "kernelspec": {
   "display_name": "Python 3",
   "language": "python",
   "name": "python3"
  },
  "language_info": {
   "codemirror_mode": {
    "name": "ipython",
    "version": 3
   },
   "file_extension": ".py",
   "mimetype": "text/x-python",
   "name": "python",
   "nbconvert_exporter": "python",
   "pygments_lexer": "ipython3",
   "version": "3.8.5"
  }
 },
 "nbformat": 4,
 "nbformat_minor": 4
}
